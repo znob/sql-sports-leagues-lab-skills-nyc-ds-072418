{
 "cells": [
  {
   "cell_type": "markdown",
   "metadata": {},
   "source": [
    "# SQL Sports Leagues Lab - Paired Programming"
   ]
  },
  {
   "cell_type": "markdown",
   "metadata": {},
   "source": [
    "![](http://www.sportsmuntra.com/wp-content/uploads/2015/03/SD-MajorLeagueBaseball-1.jpg)\n",
    "We are going to build a SQL database to help sports leagues keep track of of their teams and players.  We also will be able to log games and keep track of scores.  In this lab we will utilize all of the tools we learned in the previous lessons and labs.  We will make tables for `leagues`, `teams`, `players`, and `games`, populate these tables with data and make the proper associations, and query from these tables to select interesting information."
   ]
  },
  {
   "cell_type": "markdown",
   "metadata": {},
   "source": [
    "## Objectives\n",
    "\n",
    "1.  Review creating tables, altering tables, inserting data, and querying from tables\n",
    "2.  Become comfortable working with common data relationships \"has many\"/\"belongs to\" and \"many-to-many\"\n",
    "3.  Write advanced `SELECT` queries using `JOIN` statements and join tables"
   ]
  },
  {
   "cell_type": "markdown",
   "metadata": {},
   "source": [
    "### Part 1: Create Tables\n",
    "\n",
    "> Open SQLite broswer and create a new database `sports_leagues.db`.\n",
    "\n",
    "Build the tables that will make up our Sports Leagues database.  Make sure the tables adhere to the following requirements:\n",
    "\n",
    "1.  `leagues` have a name and \"have many\" teams\n",
    "2.  `teams` have a name and \"have many\" players\n",
    "3.  `players` have a name and \"belong to\" a team\n",
    "4.  `games` have a date of the *date* datatype and a location.  Each date is recorded in a string in the following format: \"YYYY-MM-DD\"\n",
    "5.  `teams` have many games and `games` are played by many teams.  Since this relationship is \"many-to-many\", we will need a join table.  Let's call this join table `team_games`, and it will have foreign keys to track team and game ids.  These foreign keys are responsible for establishing the many-to-many relationship. `team_games` will also have a column called score that keeps track of that team's score for that particular game.  The important point to remember here is that join tables can have columns that are not foreign keys.\n",
    "6.  All tables will have an auto-incrementing `PRIMARY KEY` set to the integer data type\n"
   ]
  },
  {
   "cell_type": "markdown",
   "metadata": {},
   "source": [
    "### Part 2: Insert Data Into Tables\n",
    "\n",
    "Once the tables are created, populate the database with data.  Feel free to create fictional leagues, teams, and games.  However, your tables should meet the following requirements.  There should be:\n",
    "\n",
    "1.  2 leagues\n",
    "2.  4 teams total, with 2 teams in each league\n",
    "3.  At least 1 player per team\n",
    "4.  3 total games, and teams are allowed to play teams from other leagues\n",
    "5.  Lastly, we will need to log scores and the relevant team and game ids into the `team_games` join table to build out the \"many-to-many\" relationship"
   ]
  },
  {
   "cell_type": "markdown",
   "metadata": {},
   "source": [
    "### Part 3: Updating Tables\n",
    "\n",
    "Two players have decided to change their names.  Fix the `players` table so that the first player's name (id = 1) is switched to \"Metta World Peace\" and the fourth player's name (id = 4) is changed to \"Chad OchoCinco\"."
   ]
  },
  {
   "cell_type": "markdown",
   "metadata": {},
   "source": [
    "### Part 4: Run Queries\n",
    "\n",
    "\n",
    "> `select_name_of_player_with_shortest_name`\n",
    "\n",
    "> `select the team of the player with longest name`\n",
    "\n",
    "> `select all the players who have played at a certain location`\n",
    "\n",
    "> Think of similar queries and execute them\n",
    "\n",
    "NOTE: Check out the [LENGTH function](https://www.w3schools.com/sql/func_mysql_length.asp).  Is there a sorting method we can use to sort the values returned by the LENGTH function?"
   ]
  },
  {
   "cell_type": "markdown",
   "metadata": {},
   "source": [
    "## Summary"
   ]
  },
  {
   "cell_type": "markdown",
   "metadata": {},
   "source": [
    "In this lab we started out by creating tables. We made our tables so that they would have many-to-many, has-many, and belongs-to relationships, enabling us to query information related to records accross tables. We then practiced seeding our database with information on teams, players, and games. Next, we wrote SQL statements that updated records in our database with new names. Finally, we wrote more complex SQL statements that queried and returned information from our database."
   ]
  }
 ],
 "metadata": {
  "kernelspec": {
   "display_name": "Python 3",
   "language": "python",
   "name": "python3"
  },
  "language_info": {
   "codemirror_mode": {
    "name": "ipython",
    "version": 3
   },
   "file_extension": ".py",
   "mimetype": "text/x-python",
   "name": "python",
   "nbconvert_exporter": "python",
   "pygments_lexer": "ipython3",
   "version": "3.6.4"
  }
 },
 "nbformat": 4,
 "nbformat_minor": 2
}
